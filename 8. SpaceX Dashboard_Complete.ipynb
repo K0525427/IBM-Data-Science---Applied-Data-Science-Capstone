{
  "metadata": {
    "kernelspec": {
      "name": "python",
      "display_name": "Python (Pyodide)",
      "language": "python"
    },
    "language_info": {
      "codemirror_mode": {
        "name": "python",
        "version": 3
      },
      "file_extension": ".py",
      "mimetype": "text/x-python",
      "name": "python",
      "nbconvert_exporter": "python",
      "pygments_lexer": "ipython3",
      "version": "3.8"
    }
  },
  "nbformat_minor": 5,
  "nbformat": 4,
  "cells": [
    {
      "id": "9205e450-cdc1-4516-99fa-c6d0f6db658d",
      "cell_type": "code",
      "source": "# Import required libraries\nimport pandas as pd\nimport dash\nfrom dash import html\nfrom dash import dcc\nfrom dash.dependencies import Input, Output\nimport plotly.express as px\n\n# Read the airline data into pandas dataframe\nspacex_df = pd.read_csv(\"https://cf-courses-data.s3.us.cloud-object-storage.appdomain.cloud/IBM-DS0321EN-SkillsNetwork/datasets/spacex_launch_dash.csv\")\nmax_payload = spacex_df['Payload Mass (kg)'].max()\nmin_payload = spacex_df['Payload Mass (kg)'].min()\n \n# Create a dash application\napp = dash.Dash(__name__)\n \n# Create an app layout\napp.layout = html.Div(children=[\n    html.H1('SpaceX Launch Records Dash',\n            style={'textAlign': 'center', 'color': '#503D36','font-size': 40}),\n \n    # TASK 1: Add a dropdown list to enable Launch Site selection\n    dcc.Dropdown(\n        id='site-dropdown',\n        options=[\n            {'label': 'All Sites', 'value': 'ALL'},\n            {'label': 'CCAFS LC-40', 'value': 'CCAFS LC-40'},\n            {'label': 'CCAFS SLC-40', 'value': 'CCAFS SLC-40'},\n            {'label': 'KSC LC-39A', 'value': 'KSC LC-39A'},\n            {'label': 'VAFB SLC-4E', 'value': 'VAFB SLC-4E'}\n        ],\n        value='ALL',\n        placeholder=\"Select a Launch Site Here\",\n        searchable=True\n    ),\n    html.Br(),\n \n    # TASK 2: Add a pie chart to show the total successful launches count for all sites\n    html.Div(dcc.Graph(id='success-pie-chart')),\n    html.Br(),\n \n    html.P(\"Payload Range (Kg):\"),\n    dcc.RangeSlider(\n        id='payload-slider',\n        min=0, \n        max=10000, \n        step=1000,\n        marks={0: '0(Kg)',2500: '2500 (Kg)', 5000: '5000 (Kg)',7500: '7500 (Kg)', 10000: '10000 (Kg)'},\n        value=[min_payload, max_payload]\n    ),\n \n     # TASK 4: Add a scatter chart to show the correlation between payload and launch success\n     html.Div(dcc.Graph(id='success-payload-scatter-chart')),\n    ])\n \n# TASK 2:\n# Add a callback function for `site-dropdown` as input, `success-pie-chart` as output\n@app.callback(\n    Output(component_id='success-pie-chart', component_property='figure'),\n    Input(component_id='site-dropdown', component_property='value')\n)\ndef get_pie_chart(entered_site):\n    filtered_df = spacex_df\n    if entered_site == 'ALL':\n        fig = px.pie(filtered_df, values='class', \n                    names='Launch Site', \n                    title='Total Successful Launches by Site')\n    else:\n        filtered_df = spacex_df[spacex_df['Launch Site'] == entered_site]\n        filtered_df = filtered_df.groupby(['Launch Site','class']).size().reset_index(name='class count')\n        fig = px.pie(filtered_df, values='class count', \n                     names='class',\n                     title=f'Total Sucessful Launches for Site {entered_site}')\n    return fig\n \n# TASK 4:\n# Add a callback function for `site-dropdown` and `payload-slider` as inputs, `success-payload-scatter-chart` as output\n@app.callback(\n    Output(component_id='success-payload-scatter-chart', component_property='figure'),\n    [Input(component_id='site-dropdown', component_property='value'), \n    Input(component_id=\"payload-slider\", component_property=\"value\")]\n)\ndef get_scatter_chart(entered_site, payload_range):\n    filtered_df = spacex_df[(spacex_df['Payload Mass (kg)']>= payload_range[0]) &\n                            (spacex_df['Payload Mass (kg)']<= payload_range[1])]\n    if entered_site == 'ALL':\n        fig = px.scatter(filtered_df, x='Payload Mass (kg)', y='class',\n                         color='Booster Version Category',\n                         title='Payload vs. Success for All Sites')\n    else:\n        filtered_df = filtered_df[filtered_df['Launch Site']== entered_site]\n        fig = px.scatter(filtered_df, x='Payload Mass (kg)', y='class',\n                         color='Booster Version Category',\n                         title=f'Payload vs. Success for Site {entered_site}')\n    return fig\n    # Run the app\nif __name__ == '__main__':\n    app.run()",
      "metadata": {
        "trusted": true
      },
      "outputs": [],
      "execution_count": null
    }
  ]
}